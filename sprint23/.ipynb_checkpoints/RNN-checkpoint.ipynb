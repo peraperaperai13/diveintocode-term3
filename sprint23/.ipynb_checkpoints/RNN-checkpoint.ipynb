{
 "cells": [
  {
   "cell_type": "markdown",
   "metadata": {},
   "source": [
    "# RNNとは"
   ]
  },
  {
   "cell_type": "markdown",
   "metadata": {},
   "source": [
    "リカレントニューラルネットワーク（RNN）とは何なのかを簡潔に説明してください。\n",
    "\n",
    "説明に含める事項\n",
    "\n",
    "- 再帰的とはどういうことか  \n",
    "- これまでのニューラルネットワークとは何が違うのか  \n",
    "- どういったときに使われるのか"
   ]
  },
  {
   "cell_type": "markdown",
   "metadata": {},
   "source": [
    "RNNはRecurrent Neural Networkの略称であり、**Recurrent**は**何度も繰り返し起こること**を意味します。  \n",
    "これは日本語で**再帰する**や**循環する**という風に訳されます。この「再帰する」や「循環する」ということは、  \n",
    "ある地点をスタートしたものが、時間を経て再びその地点に戻ってくることを言います。つまり、**再び戻ってくる**、**ループする**ということです。  "
   ]
  },
  {
   "cell_type": "markdown",
   "metadata": {},
   "source": [
    "RNNでは、循環させることで時系列データを扱うことを可能にしています。  \n",
    "今までのニューラルネットワークでは時系列データを扱うことはできませんでした。  \n",
    "RNNは循環経路を持っているため、過去の情報を記憶しながら最新のデータへと更新することができるため、時系列データを扱うことができます。  "
   ]
  },
  {
   "cell_type": "markdown",
   "metadata": {},
   "source": [
    "例えば、(x1, x2, ・・・・xt, ・・・・・)というデータが入力されたとします。  \n",
    "すると、計算は「**$x1 * W = h1$**」、「**$x2 * W = h2$**」、・・・・・という風に行なっていきます。  \n",
    "これを循環させるには**$h1$**と**$x2$**を足し合わせる、というように、  \n",
    "前の計算結果を今回の計算対象となる$x$に足し合わせていき、活性化関数に通し、  \n",
    "その出力を次の計算対象となる$x$に足し合わせて、活性化関数に通す・・・ということを繰り返します。"
   ]
  },
  {
   "cell_type": "markdown",
   "metadata": {},
   "source": [
    "具体的に、**You say goodbye and I say hello.**というテキストを入力する場合、  \n",
    "**You, say, goodbye, and, I, say, hello, .**という単語に分けて演算を行います。  \n",
    "最初にYouを演算し、その結果をsayに足し合わせて演算し、その結果をgoodbyeに足し合わせて演算し、・・・・・ということを繰り返します。  \n",
    "これがRNNの仕組みです。"
   ]
  },
  {
   "cell_type": "markdown",
   "metadata": {},
   "source": [
    "# RNNの実装"
   ]
  },
  {
   "cell_type": "markdown",
   "metadata": {},
   "source": [
    "## サンプルを回してみる"
   ]
  },
  {
   "cell_type": "code",
   "execution_count": 1,
   "metadata": {},
   "outputs": [
    {
     "name": "stderr",
     "output_type": "stream",
     "text": [
      "Using TensorFlow backend.\n"
     ]
    },
    {
     "name": "stdout",
     "output_type": "stream",
     "text": [
      "load dataset\n",
      "padding\n",
      "build model\n",
      "train\n",
      "Train on 25000 samples, validate on 25000 samples\n",
      "Epoch 1/3\n",
      "25000/25000 [==============================] - 41s 2ms/step - loss: 0.5107 - acc: 0.7445 - val_loss: 0.4452 - val_acc: 0.7948\n",
      "Epoch 2/3\n",
      "25000/25000 [==============================] - 40s 2ms/step - loss: 0.3106 - acc: 0.8707 - val_loss: 0.5409 - val_acc: 0.7333\n",
      "Epoch 3/3\n",
      "25000/25000 [==============================] - 38s 2ms/step - loss: 0.1481 - acc: 0.9464 - val_loss: 0.6453 - val_acc: 0.7711\n",
      "25000/25000 [==============================] - 7s 261us/step\n",
      "Test score: 0.6453347884750367\n",
      "Test accuracy: 0.77108\n"
     ]
    }
   ],
   "source": [
    "from keras.preprocessing import sequence\n",
    "from keras.models import Sequential\n",
    "from keras.layers import Input, Dense, Embedding\n",
    "from keras.models import Model\n",
    "from keras.layers import SimpleRNN\n",
    "from keras.datasets import imdb\n",
    "\n",
    "max_features = 10000\n",
    "maxlen = 40\n",
    "batch_size = 32\n",
    "\n",
    "print('load dataset')\n",
    "(x_train, y_train), (x_test, y_test) = imdb.load_data(num_words=max_features)\n",
    "\n",
    "print('padding')\n",
    "x_train = sequence.pad_sequences(x_train, maxlen=maxlen)\n",
    "x_test = sequence.pad_sequences(x_test, maxlen=maxlen)\n",
    "\n",
    "print('build model')\n",
    "inp = Input(shape=(maxlen,), dtype='int32', name='main_input')\n",
    "x = Embedding(max_features, 128)(inp)\n",
    "simple_rnn_out = SimpleRNN(32)(x)\n",
    "predictions = Dense(1, activation='sigmoid')(simple_rnn_out)\n",
    "model = Model(inputs=inp, outputs=predictions)\n",
    "\n",
    "model.compile(loss='binary_crossentropy',\n",
    "              optimizer='adam',\n",
    "              metrics=['accuracy'])\n",
    "\n",
    "print('train')\n",
    "model.fit(x_train, y_train,\n",
    "          batch_size=batch_size,\n",
    "          epochs=3,\n",
    "          validation_data=(x_test, y_test))\n",
    "score, acc = model.evaluate(x_test, y_test,\n",
    "                            batch_size=batch_size)\n",
    "print('Test score:', score)\n",
    "print('Test accuracy:', acc)"
   ]
  },
  {
   "cell_type": "markdown",
   "metadata": {},
   "source": [
    "## forward"
   ]
  },
  {
   "cell_type": "code",
   "execution_count": 2,
   "metadata": {},
   "outputs": [],
   "source": [
    "import numpy as np\n",
    "import sys\n",
    "sys.path.append('./deep-learning-from-scratch-2')\n",
    "from common.util import preprocess, convert_one_hot, create_contexts_target\n",
    "from common.trainer import Trainer\n",
    "from common.optimizer import Adam\n",
    "from common.layers import Embedding, SoftmaxWithLoss\n",
    "from common.functions import softmax, cross_entropy_error\n",
    "from ch04.cbow import CBOW\n",
    "#from ch04.train import "
   ]
  },
  {
   "cell_type": "code",
   "execution_count": 3,
   "metadata": {},
   "outputs": [],
   "source": [
    "text = \"You say goodbye and I say hello.\""
   ]
  },
  {
   "cell_type": "code",
   "execution_count": 4,
   "metadata": {},
   "outputs": [],
   "source": [
    "# ハイパーパラメータの設定\n",
    "window_size = 5\n",
    "hidden_size = 100\n",
    "batch_size = 100\n",
    "max_epoch = 10"
   ]
  },
  {
   "cell_type": "code",
   "execution_count": 5,
   "metadata": {},
   "outputs": [
    {
     "data": {
      "image/png": "[encoded data removed]",
      "text/plain": [
       "<Figure size 432x288 with 1 Axes>"
      ]
     },
     "metadata": {},
     "output_type": "display_data"
    },
    {
     "name": "stdout",
     "output_type": "stream",
     "text": [
      "you [-1.46742957e-02  3.29142692e-03 -2.59777345e-02  3.77275865e-03\n",
      " -9.94054321e-03 -1.37563059e-02 -1.05478093e-02  5.14214067e-03\n",
      "  3.79676395e-03 -2.96720560e-03 -9.59710311e-03  4.15629754e-03\n",
      " -7.94642698e-03 -2.18135621e-02 -1.06690265e-02  6.45278161e-03\n",
      "  1.38266394e-02  9.02400725e-03  8.63070413e-03 -6.96519716e-03\n",
      " -2.77075288e-03  2.08560843e-02 -1.35048758e-02  2.24404037e-03\n",
      "  1.22225303e-02 -4.60114609e-03 -5.43160504e-03 -5.36746206e-03\n",
      "  2.38862191e-03  1.66661013e-02 -1.26177501e-02 -7.78823596e-05\n",
      "  1.23316366e-02 -1.17378472e-03  5.20643406e-03  1.37860458e-02\n",
      " -1.68333687e-02  4.49968548e-03 -9.21047200e-03 -2.77929055e-03\n",
      " -2.74790381e-03 -1.69383525e-03  4.70042834e-03 -5.68332907e-04\n",
      " -1.00054704e-02  9.89604462e-03  1.91167500e-02 -1.37223620e-02\n",
      " -1.58599634e-02 -7.88927730e-03 -3.07929958e-03 -5.12957992e-03\n",
      " -5.12091676e-03 -1.47167286e-02  1.39234085e-02  9.07599274e-03\n",
      "  5.07938722e-03 -1.23475362e-02 -8.86251684e-03 -2.06572153e-02\n",
      "  2.26035975e-02  2.93164817e-03 -2.57778727e-03  2.32553445e-02\n",
      "  1.30126355e-02 -9.38352023e-04 -1.10235261e-02  8.33748654e-03\n",
      "  2.49249511e-03 -3.04069696e-03 -9.75491200e-03  5.99211501e-03\n",
      " -1.08446488e-02  2.81294691e-03  7.42652593e-03 -4.22215182e-03\n",
      "  8.87069479e-03 -9.32985160e-04  1.12069829e-03 -3.24529858e-04\n",
      "  8.01039301e-03  1.21748000e-02  9.46256053e-03 -1.21512413e-02\n",
      "  6.39521005e-03  1.42093534e-02 -8.98261089e-03 -1.13798305e-02\n",
      "  2.93205027e-03  1.43612549e-02  5.33847790e-03 -6.45819632e-03\n",
      " -1.00644482e-02 -3.03079636e-04 -5.35950577e-03 -1.46148773e-03\n",
      " -1.39990486e-02 -9.13298689e-04  1.89459405e-03  1.04661174e-02]\n",
      "say [ 1.13725830e-02 -1.11422194e-02 -8.78772233e-03  2.86342949e-03\n",
      "  8.22938699e-03 -8.75644572e-03  7.92615116e-03  9.37154703e-03\n",
      "  3.41550703e-03  1.11460174e-02  7.86453392e-03  2.07820293e-02\n",
      " -9.10648424e-03 -1.07283555e-02  1.51230302e-03  1.21999066e-02\n",
      "  9.76008363e-03 -9.41544864e-03  4.70747000e-05 -7.65012437e-03\n",
      " -9.11267358e-04 -7.61746336e-03 -5.22042997e-03 -9.68575384e-03\n",
      " -7.48435641e-03 -9.53540730e-04 -6.89908350e-03  3.13418801e-03\n",
      " -6.10463507e-03 -1.07411202e-02  5.99935139e-03  4.08961118e-04\n",
      "  6.74421992e-03 -1.39819905e-02 -4.61188471e-03  5.15914289e-03\n",
      "  3.11949896e-03  6.69255061e-03  2.88396585e-03 -8.26598052e-03\n",
      " -5.25704585e-04 -1.41893199e-03  3.09314812e-03  5.61065535e-05\n",
      " -4.84524854e-03  4.66320058e-03 -3.08204768e-03  6.04777969e-03\n",
      "  4.10183752e-03  1.16172051e-02  1.83746184e-03  4.53733280e-03\n",
      " -1.67035486e-03 -3.95605294e-03 -2.78237760e-02 -6.49597822e-03\n",
      "  3.06389504e-03  2.26519071e-02 -3.54303163e-03  2.35013869e-02\n",
      " -1.80646051e-02  4.27963771e-03 -2.16249395e-02  2.10099830e-03\n",
      " -1.14555918e-02  1.05191942e-03 -1.58536769e-02  7.33661465e-03\n",
      " -7.05179153e-03  1.06215365e-02 -1.06990337e-02 -1.53042311e-02\n",
      " -9.72734008e-04 -5.57352509e-03  1.70089526e-03  5.86704072e-03\n",
      " -6.71141688e-03  5.05490880e-03 -1.04301870e-02 -6.79352740e-03\n",
      "  6.14685472e-03  5.73360408e-03 -6.96004741e-03  1.27210107e-03\n",
      "  1.90836806e-02 -1.66252919e-03  2.01519323e-03  1.15973419e-02\n",
      "  5.86475898e-03 -9.02139861e-03 -2.16174126e-02  4.34493925e-03\n",
      "  1.54662365e-02  2.17770860e-02  5.10328216e-03 -1.77879091e-02\n",
      "  2.77746543e-02 -7.87429512e-04 -2.12212633e-02 -4.90879547e-03]\n",
      "goodbye [ 2.37581274e-03  1.96048943e-03  3.14669148e-03 -2.07012035e-02\n",
      "  1.02750035e-02  2.17364468e-02 -1.29088596e-03 -1.70780923e-02\n",
      "  8.45054630e-03  2.33480521e-03  4.22656815e-03 -1.91287659e-02\n",
      " -5.34245279e-03 -1.55858407e-02 -6.30903989e-04 -9.45659820e-03\n",
      "  5.08771744e-03  1.45871309e-03 -1.42649505e-02  1.90989790e-03\n",
      " -4.94831055e-03 -7.02232355e-03  9.15812980e-03 -2.48772521e-02\n",
      "  2.97782617e-03 -9.48098395e-03 -6.94181910e-03 -5.12280688e-03\n",
      "  8.41240119e-03 -5.95479598e-03  9.16434173e-03 -6.37208577e-03\n",
      "  1.58574879e-02  2.60430661e-05 -1.08186423e-03 -1.39868921e-02\n",
      " -6.77082129e-03 -1.70624160e-04 -2.21509002e-02  5.75961452e-03\n",
      " -3.77538917e-03 -1.35465777e-02 -4.21829429e-03  2.67259255e-02\n",
      " -4.73514153e-03  1.94027077e-03  1.80242525e-03 -3.33733507e-04\n",
      "  2.26217182e-03 -1.49961580e-02  5.93342306e-03  7.28250435e-03\n",
      " -1.95579641e-02  2.91776705e-05  6.37300964e-03 -1.53186619e-02\n",
      " -8.26216582e-03  5.19086933e-03 -1.57277603e-02 -9.16183367e-03\n",
      " -1.26075582e-03  5.73364785e-03  5.95490215e-03 -3.41507606e-03\n",
      "  2.40212888e-03 -1.90954469e-03 -1.02432938e-02 -8.17251578e-03\n",
      " -1.57508784e-05 -6.28125668e-03 -2.56061694e-03  7.27963075e-03\n",
      "  5.00521529e-03  3.08515294e-03 -6.63954439e-03 -8.10959656e-03\n",
      " -6.38462929e-03  2.50532720e-02  1.68000516e-02 -1.22348918e-02\n",
      "  5.14728110e-03  8.44555721e-03 -7.95198884e-03  1.33623676e-02\n",
      " -2.74624932e-03  1.68977759e-03 -1.04263173e-02  2.31444859e-03\n",
      " -5.45977568e-03  4.31023352e-03 -2.12614648e-02 -1.55531720e-03\n",
      "  1.16193220e-02 -3.42714507e-03  6.83128834e-03  7.16682198e-03\n",
      " -9.66351572e-03  3.64361377e-03 -8.60448740e-03  2.29563098e-03]\n",
      "and [ 1.69239880e-03 -3.33891623e-03  1.09663308e-02  8.30632914e-03\n",
      "  9.58376750e-03  1.21832720e-03  1.34185050e-02  9.79891606e-03\n",
      "  4.92621493e-03 -9.18106700e-04  1.42945303e-02  3.14599165e-04\n",
      "  1.30269080e-02 -4.55693854e-03  7.87003804e-03  5.46821067e-03\n",
      " -1.12967556e-02  1.15705142e-02 -8.74619372e-03  8.05174839e-03\n",
      "  2.81926990e-03  1.54893575e-02  8.04550480e-03  1.93909137e-03\n",
      " -9.46044270e-03  8.01201630e-03  7.32974708e-03 -1.17115944e-03\n",
      " -1.04859294e-02 -1.53371915e-02 -1.43338018e-03  1.41404066e-02\n",
      "  6.69038482e-03 -4.19096509e-03  1.82768889e-02 -2.24623363e-03\n",
      " -6.09004498e-03  2.49180268e-03  3.45919118e-03 -1.43821621e-02\n",
      "  2.31050956e-03  2.33547520e-02  8.59528966e-03  1.11607974e-03\n",
      " -7.91782420e-03 -1.37624927e-02 -5.46883373e-03  3.83023988e-03\n",
      " -1.52085889e-02 -1.33550102e-02  3.31810536e-03 -5.29712066e-03\n",
      " -6.17743190e-03 -1.44761289e-02  3.08176689e-03 -1.05854892e-03\n",
      "  1.05394246e-02 -5.39825903e-03 -1.76434983e-02 -9.93701816e-03\n",
      "  5.36570151e-04 -1.18786488e-02 -1.67527199e-02  5.92461880e-03\n",
      "  1.72795891e-03 -9.03728139e-03 -1.77025760e-03  8.13582540e-03\n",
      "  8.89955275e-03 -1.76789593e-02  3.78633471e-04  1.27925584e-02\n",
      "  1.13191456e-02  5.72743686e-03 -7.13174371e-03  6.35361951e-03\n",
      "  2.12613530e-02 -2.25908402e-02  1.29367409e-05 -7.58284843e-03\n",
      "  5.32836234e-03 -1.49872871e-02  3.62101151e-03  2.57499097e-03\n",
      " -4.15318413e-03 -2.82202777e-03 -1.08713084e-05 -8.58881049e-06\n",
      " -2.17080087e-05 -7.15919351e-03  1.03551019e-02  6.22713473e-03\n",
      "  3.97742633e-03  8.15116055e-03  6.56501856e-03  6.05141930e-03\n",
      "  5.83709544e-03 -4.58540907e-03  7.44470395e-03 -4.68626246e-03]\n",
      "i [ 0.00992468  0.01038883 -0.0046013  -0.01090394  0.0020407   0.00421238\n",
      "  0.00850953 -0.00446648 -0.00557284 -0.00714291  0.00090039 -0.01832236\n",
      "  0.00491345 -0.02236168  0.00709031  0.00151081 -0.00651769  0.01913003\n",
      "  0.01029091 -0.01072484 -0.00363836 -0.00321025  0.00332859  0.01465668\n",
      " -0.00610558  0.00348401  0.0252513   0.01266808 -0.00508209 -0.00377956\n",
      "  0.00717329  0.01010406  0.00852275 -0.00431956  0.00636137 -0.01320202\n",
      " -0.00679527 -0.00697811 -0.00282879 -0.00252004 -0.00089935  0.00940582\n",
      " -0.00351777 -0.01322547  0.00520973 -0.01315601 -0.0042456  -0.00011819\n",
      "  0.00345165 -0.00899437  0.00468641 -0.00971292 -0.00742903  0.00143326\n",
      " -0.00358331  0.00740534  0.00380266  0.0087562   0.01030472 -0.00743579\n",
      " -0.01179063  0.01666761 -0.01931932  0.0098389   0.00869945 -0.00407728\n",
      " -0.01196185 -0.01997795  0.00891798 -0.00482179  0.00504655 -0.01353622\n",
      " -0.02052947 -0.00837001  0.01923338  0.0008387  -0.00100698  0.00479761\n",
      " -0.0154896  -0.00202672 -0.00489525  0.00486945  0.00838225  0.00662032\n",
      " -0.01165638 -0.01169508 -0.00145653 -0.00592093  0.00981951 -0.0154503\n",
      "  0.00988743  0.0053048   0.01248252 -0.01969691 -0.01535216 -0.01606605\n",
      "  0.01870719  0.01874676 -0.02717623 -0.00360181]\n",
      "hello [-0.00238526 -0.00480731 -0.00117159  0.00465766  0.01111997  0.00084898\n",
      "  0.01475856  0.0073023  -0.02379083  0.0133271   0.00254048 -0.00994809\n",
      " -0.00446089 -0.00356918 -0.01105551  0.00794924  0.007319   -0.00133034\n",
      "  0.01221605 -0.00280191  0.00233862 -0.00294285 -0.00385262  0.00268116\n",
      " -0.00387773 -0.00027803 -0.00132282  0.00766419  0.02309971  0.00596112\n",
      "  0.00564675 -0.00602508 -0.0041451  -0.0045264  -0.00238044  0.00574555\n",
      "  0.02132646 -0.01270258  0.01108805  0.00600279  0.00619428  0.00848046\n",
      " -0.02413302 -0.00871055 -0.01577267 -0.00858201  0.0042486  -0.01337107\n",
      "  0.0133332  -0.01689725 -0.02978069  0.01021155  0.00935663 -0.00103717\n",
      " -0.00274936  0.00307737 -0.00067001  0.00652652 -0.00932442 -0.00341119\n",
      "  0.01246518  0.00384429  0.01404517 -0.01446456  0.00401259  0.00711514\n",
      "  0.00783171 -0.000191   -0.00548891 -0.00111257 -0.00210725 -0.01035685\n",
      " -0.00447151  0.00382937 -0.01724085  0.00660805  0.0184117   0.00117179\n",
      " -0.01912948 -0.00766175 -0.00436529  0.01103967  0.00353975 -0.00924177\n",
      " -0.0014657  -0.00112521  0.0015164   0.01352061  0.01070604 -0.01047285\n",
      "  0.00278968  0.00862378 -0.00768208  0.00350901  0.01379757 -0.003814\n",
      "  0.00291436 -0.01971151  0.00117251  0.00762643]\n",
      ". [-0.00785563  0.00196777 -0.01570475  0.00195014  0.01249923  0.00452019\n",
      " -0.00475135  0.00014614 -0.00104067  0.01282977  0.0023093   0.01531927\n",
      "  0.01405302  0.01283573  0.00725814  0.00355883 -0.00620799 -0.00567545\n",
      " -0.00555034 -0.00169481 -0.00706834  0.00405335  0.00609149  0.00236728\n",
      "  0.01256043 -0.00496779 -0.01028715  0.01176458 -0.01213031  0.00750703\n",
      "  0.01391304 -0.01680288 -0.01719787 -0.00388828  0.00222585  0.0103861\n",
      "  0.00125142  0.01097797  0.00197069  0.02928133  0.01471279  0.01815901\n",
      "  0.01539006  0.00323691 -0.00415397 -0.0048197   0.01611887 -0.00299983\n",
      "  0.00031204  0.00439491 -0.00862629  0.00012365 -0.00386152 -0.01242277\n",
      " -0.00204585 -0.00301312  0.00056359 -0.00033494  0.01012796 -0.0024193\n",
      " -0.01095289 -0.00096346  0.01031899  0.00544913 -0.00598466  0.0210195\n",
      "  0.00202571  0.00374591  0.00315789  0.00526212 -0.00946604 -0.00311779\n",
      " -0.01147873  0.00856419 -0.01051588 -0.0072861   0.00317443  0.00941864\n",
      " -0.00782828 -0.00173    -0.00265341 -0.00703742 -0.00731677  0.01726\n",
      " -0.02723668  0.00201773 -0.00440452 -0.01833907 -0.01573879  0.00641148\n",
      "  0.0011173   0.01369338 -0.00734229  0.00750018  0.0033618  -0.00152419\n",
      " -0.00588371 -0.01921451  0.0041727  -0.00608248]\n"
     ]
    }
   ],
   "source": [
    "# データの読み込み\n",
    "corpus, word_to_id, id_to_word = preprocess(text)\n",
    "vocab_size = len(word_to_id)\n",
    "\n",
    "contexts, target = create_contexts_target(corpus, window_size)\n",
    "# if config.GPU:\n",
    "#     contexts, target = to_gpu(contexts), to_gpu(target)\n",
    "\n",
    "# モデルなどの生成\n",
    "model = CBOW(vocab_size, hidden_size, window_size, corpus)\n",
    "# model = SkipGram(vocab_size, hidden_size, window_size, corpus)\n",
    "optimizer = Adam()\n",
    "trainer = Trainer(model, optimizer)\n",
    "\n",
    "# 学習開始\n",
    "trainer.fit(contexts, target, max_epoch, batch_size)\n",
    "trainer.plot()\n",
    "\n",
    "# 後ほど利用できるように、必要なデータを保存\n",
    "word_vecs = model.word_vecs\n",
    "# if config.GPU:\n",
    "#     word_vecs = to_cpu(word_vecs)\n",
    "params = {}\n",
    "params['word_vecs'] = word_vecs.astype(np.float16)\n",
    "params['word_to_id'] = word_to_id\n",
    "params['id_to_word'] = id_to_word\n",
    "# pkl_file = 'cbow_params.pkl'  # or 'skipgram_params.pkl'\n",
    "# with open(pkl_file, 'wb') as f:\n",
    "#     pickle.dump(params, f, -1)\n",
    "\n",
    "word_vecs = model.word_vecs\n",
    "for word_id, word in id_to_word.items():\n",
    "    print(word, word_vecs[word_id])"
   ]
  },
  {
   "cell_type": "code",
   "execution_count": 6,
   "metadata": {},
   "outputs": [
    {
     "data": {
      "text/plain": [
       "(7, 100)"
      ]
     },
     "execution_count": 6,
     "metadata": {},
     "output_type": "execute_result"
    }
   ],
   "source": [
    "word_vecs.shape"
   ]
  },
  {
   "cell_type": "code",
   "execution_count": 7,
   "metadata": {
    "scrolled": true
   },
   "outputs": [],
   "source": [
    "hidden_size = 10\n",
    "h_prev = np.zeros([hidden_size])\n",
    "W_x = 0.01 * np.random.randn(word_vecs.shape[1], hidden_size)\n",
    "W_h = 0.01 * np.random.randn(hidden_size, hidden_size)\n",
    "b = 0.01 * np.random.randn(hidden_size)"
   ]
  },
  {
   "cell_type": "code",
   "execution_count": 8,
   "metadata": {},
   "outputs": [
    {
     "data": {
      "text/plain": [
       "((10,), (100, 10), (10, 10), (10,))"
      ]
     },
     "execution_count": 8,
     "metadata": {},
     "output_type": "execute_result"
    }
   ],
   "source": [
    "h_prev.shape, W_x.shape, W_h.shape, b.shape"
   ]
  },
  {
   "cell_type": "code",
   "execution_count": 9,
   "metadata": {},
   "outputs": [],
   "source": [
    "def forward(x, h_prev):\n",
    "    h_out = []\n",
    "\n",
    "    for i in range(x.shape[0]):\n",
    "        h_next = np.tanh(np.dot(h_prev, W_h) + np.dot(x[i], W_x) + b)\n",
    "        h_out.append(h_next)\n",
    "        h_prev = h_next\n",
    "        \n",
    "    return np.array(h_out), h_prev"
   ]
  },
  {
   "cell_type": "code",
   "execution_count": 10,
   "metadata": {},
   "outputs": [],
   "source": [
    "h_next, h_prev = forward(word_vecs, h_prev)"
   ]
  },
  {
   "cell_type": "code",
   "execution_count": 11,
   "metadata": {
    "scrolled": true
   },
   "outputs": [
    {
     "data": {
      "text/plain": [
       "((7, 10), (10,))"
      ]
     },
     "execution_count": 11,
     "metadata": {},
     "output_type": "execute_result"
    }
   ],
   "source": [
    "h_next.shape, h_prev.shape"
   ]
  },
  {
   "cell_type": "code",
   "execution_count": 12,
   "metadata": {},
   "outputs": [
    {
     "data": {
      "text/plain": [
       "array([[-1.95664274e-02, -2.09324045e-04, -5.96924093e-03,\n",
       "        -2.27484005e-03, -3.32324742e-03, -7.33908172e-03,\n",
       "         3.81491370e-03,  3.93533188e-03,  7.71466795e-04,\n",
       "        -1.48758733e-02],\n",
       "       [-1.94179491e-02, -4.71393344e-04, -4.01541350e-03,\n",
       "        -5.58006722e-03,  3.21274629e-04, -9.27452144e-03,\n",
       "         1.46344577e-03,  5.58347907e-03, -1.29208151e-03,\n",
       "        -1.30497539e-02],\n",
       "       [-1.88950954e-02, -5.80910445e-04, -5.32456909e-03,\n",
       "        -3.56671369e-03, -9.23975628e-04, -9.14573022e-03,\n",
       "         3.60613857e-03,  7.77298787e-03,  2.11530808e-03,\n",
       "        -1.55011711e-02],\n",
       "       [-1.70513064e-02, -7.71840524e-04, -5.48505027e-03,\n",
       "        -3.01534036e-03,  2.71612227e-05, -7.72786167e-03,\n",
       "         3.47155820e-03,  6.15896316e-03,  1.75862688e-03,\n",
       "        -1.31267233e-02],\n",
       "       [-1.86143812e-02,  1.51317911e-03, -7.00466982e-03,\n",
       "        -3.10101263e-03,  5.15950097e-04, -1.06179756e-02,\n",
       "         9.40335493e-04,  5.86725232e-03,  1.81596161e-03,\n",
       "        -1.40024644e-02],\n",
       "       [-1.84673874e-02, -3.13954177e-04, -3.58524079e-03,\n",
       "        -3.27341292e-03, -1.32243791e-03, -6.50218558e-03,\n",
       "         1.59017999e-03,  5.60103516e-03,  1.33241855e-03,\n",
       "        -1.35276315e-02],\n",
       "       [-1.80025783e-02, -1.81690913e-03, -3.46044769e-03,\n",
       "        -3.52527121e-03, -4.99523994e-04, -7.45565292e-03,\n",
       "         1.70410348e-03,  4.75064169e-03, -2.96158266e-04,\n",
       "        -1.21154294e-02]])"
      ]
     },
     "execution_count": 12,
     "metadata": {},
     "output_type": "execute_result"
    }
   ],
   "source": [
    "h_next"
   ]
  },
  {
   "cell_type": "markdown",
   "metadata": {},
   "source": [
    "## backward"
   ]
  },
  {
   "cell_type": "code",
   "execution_count": 13,
   "metadata": {},
   "outputs": [],
   "source": [
    "dW_h = 0.01 * np.random.randn(hidden_size)\n",
    "dh_next = np.zeros_like(h_next)"
   ]
  },
  {
   "cell_type": "code",
   "execution_count": 14,
   "metadata": {},
   "outputs": [],
   "source": [
    "def backward(dh_next, word_vecs):\n",
    "    for i in range(dh_next.shape[0]):\n",
    "        dt = dh_next[i] * (1 - h_next[i] ** 2)\n",
    "        db = np.sum(dt, axis=0)\n",
    "        dW_h = np.dot(h_prev.T, dt)\n",
    "        dh_prev = np.dot(dt, W_h.T)\n",
    "        dW_x = np.dot(word_vecs[i].T, dt)\n",
    "        dx = np.dot(dt, W_x.T)\n",
    "        \n",
    "    return dx, dh_prev"
   ]
  },
  {
   "cell_type": "code",
   "execution_count": 15,
   "metadata": {},
   "outputs": [
    {
     "ename": "ValueError",
     "evalue": "shapes (100,) and (10,) not aligned: 100 (dim 0) != 10 (dim 0)",
     "output_type": "error",
     "traceback": [
      "\u001b[0;31m---------------------------------------------------------------------------\u001b[0m",
      "\u001b[0;31mValueError\u001b[0m                                Traceback (most recent call last)",
      "\u001b[0;32m<ipython-input-15-070a13844f12>\u001b[0m in \u001b[0;36m<module>\u001b[0;34m()\u001b[0m\n\u001b[0;32m----> 1\u001b[0;31m \u001b[0mdx\u001b[0m\u001b[0;34m,\u001b[0m \u001b[0mdh_prev\u001b[0m \u001b[0;34m=\u001b[0m \u001b[0mbackward\u001b[0m\u001b[0;34m(\u001b[0m\u001b[0mdh_next\u001b[0m\u001b[0;34m,\u001b[0m \u001b[0mword_vecs\u001b[0m\u001b[0;34m)\u001b[0m\u001b[0;34m\u001b[0m\u001b[0m\n\u001b[0m",
      "\u001b[0;32m<ipython-input-14-31eafb856d31>\u001b[0m in \u001b[0;36mbackward\u001b[0;34m(dh_next, word_vecs)\u001b[0m\n\u001b[1;32m      5\u001b[0m         \u001b[0mdW_h\u001b[0m \u001b[0;34m=\u001b[0m \u001b[0mnp\u001b[0m\u001b[0;34m.\u001b[0m\u001b[0mdot\u001b[0m\u001b[0;34m(\u001b[0m\u001b[0mh_prev\u001b[0m\u001b[0;34m.\u001b[0m\u001b[0mT\u001b[0m\u001b[0;34m,\u001b[0m \u001b[0mdt\u001b[0m\u001b[0;34m)\u001b[0m\u001b[0;34m\u001b[0m\u001b[0m\n\u001b[1;32m      6\u001b[0m         \u001b[0mdh_prev\u001b[0m \u001b[0;34m=\u001b[0m \u001b[0mnp\u001b[0m\u001b[0;34m.\u001b[0m\u001b[0mdot\u001b[0m\u001b[0;34m(\u001b[0m\u001b[0mdt\u001b[0m\u001b[0;34m,\u001b[0m \u001b[0mW_h\u001b[0m\u001b[0;34m.\u001b[0m\u001b[0mT\u001b[0m\u001b[0;34m)\u001b[0m\u001b[0;34m\u001b[0m\u001b[0m\n\u001b[0;32m----> 7\u001b[0;31m         \u001b[0mdW_x\u001b[0m \u001b[0;34m=\u001b[0m \u001b[0mnp\u001b[0m\u001b[0;34m.\u001b[0m\u001b[0mdot\u001b[0m\u001b[0;34m(\u001b[0m\u001b[0mword_vecs\u001b[0m\u001b[0;34m[\u001b[0m\u001b[0mi\u001b[0m\u001b[0;34m]\u001b[0m\u001b[0;34m.\u001b[0m\u001b[0mT\u001b[0m\u001b[0;34m,\u001b[0m \u001b[0mdt\u001b[0m\u001b[0;34m)\u001b[0m\u001b[0;34m\u001b[0m\u001b[0m\n\u001b[0m\u001b[1;32m      8\u001b[0m         \u001b[0mdx\u001b[0m \u001b[0;34m=\u001b[0m \u001b[0mnp\u001b[0m\u001b[0;34m.\u001b[0m\u001b[0mdot\u001b[0m\u001b[0;34m(\u001b[0m\u001b[0mdt\u001b[0m\u001b[0;34m,\u001b[0m \u001b[0mW_x\u001b[0m\u001b[0;34m.\u001b[0m\u001b[0mT\u001b[0m\u001b[0;34m)\u001b[0m\u001b[0;34m\u001b[0m\u001b[0m\n\u001b[1;32m      9\u001b[0m \u001b[0;34m\u001b[0m\u001b[0m\n",
      "\u001b[0;31mValueError\u001b[0m: shapes (100,) and (10,) not aligned: 100 (dim 0) != 10 (dim 0)"
     ]
    }
   ],
   "source": [
    "dx, dh_prev = backward(dh_next, word_vecs)"
   ]
  },
  {
   "cell_type": "markdown",
   "metadata": {},
   "source": [
    "ここからはテキストを参考にクラス化を進めていきたいと思います。"
   ]
  },
  {
   "cell_type": "markdown",
   "metadata": {},
   "source": [
    "## クラス化"
   ]
  },
  {
   "cell_type": "code",
   "execution_count": null,
   "metadata": {},
   "outputs": [],
   "source": [
    "class RNN:\n",
    "    def __init__(self, Wx, Wh, b):\n",
    "        self.params = [Wx, Wh, b]\n",
    "        self.grads = [np.zeros_like(Wx), np.zeros_like(Wh), np.zeros_like(b)]\n",
    "        self.cache = None\n",
    "        \n",
    "    def forward(self, x, h_prev):\n",
    "        Wx, Wh, b = self.params\n",
    "        h_next = np.tanh(np.dot(h_prev, Wh) + np.dot(x, Wx) + b)\n",
    "        self.cahe = (x, h_prev, h_next)\n",
    "        \n",
    "        return h_next\n",
    "    \n",
    "    def backward(self, dh_next):\n",
    "        Wx, Wh, b = self.params\n",
    "        x, h_prev, h_next = self.cache\n",
    "        \n",
    "        dt = dh_next - (1 - h_next**2)\n",
    "        db = np.sum(dt, axis=0)\n",
    "        dWh = np.dot(h_prev.T, dt)\n",
    "        dh_prev = np.dot(dt, Wh.T)\n",
    "        dWx = np.dot(x.T, dt)\n",
    "        dx = np.dot(dt, Wx.T)\n",
    "        \n",
    "        self.grad[0][...] = dWx\n",
    "        self.grad[1][...] = dWh\n",
    "        self.grad[2][...] = db\n",
    "        \n",
    "        return dx, dh_prev"
   ]
  },
  {
   "cell_type": "markdown",
   "metadata": {},
   "source": [
    "# Time"
   ]
  },
  {
   "cell_type": "markdown",
   "metadata": {},
   "source": [
    "## TimeRNN"
   ]
  },
  {
   "cell_type": "code",
   "execution_count": null,
   "metadata": {},
   "outputs": [],
   "source": [
    "class TimeRNN:\n",
    "    def __init__(self, Wx, Wh, b, stateful=False):\n",
    "        self.params = [Wx, Wh, b]\n",
    "        self.grads = [np.zeros_like(Wx), np.zeros_like(Wh), np.zeros_like(b)]\n",
    "        self.layers = None\n",
    "        \n",
    "        self.h, self.dh = None, None\n",
    "        self.stateful = stateful\n",
    "        \n",
    "    def set_state(self, h):\n",
    "        self.h = h\n",
    "        \n",
    "    def reset_state(self):\n",
    "        self.h = None\n",
    "        \n",
    "    def forward(self, xs):\n",
    "        Wx, Wh, b = self.params\n",
    "        N, T, D = xs.shape\n",
    "        D, H = Wx.shape\n",
    "        \n",
    "        self.layers = []\n",
    "        hs = np.empty((N, T, D), dtype='f')\n",
    "        \n",
    "        if not self.stateful or self.h is None:\n",
    "            self.h = np.zeros((N, H), dtype='f')\n",
    "            \n",
    "        for t in range(T):\n",
    "            layer = RNN(*self.params)\n",
    "            self.h = layer.forward(xs[:, t, :], self.h)\n",
    "            hs[:, t, :] = self.h\n",
    "            self.layers.append(layer)\n",
    "            \n",
    "        return hs\n",
    "    \n",
    "    def backward(self, dhs):\n",
    "        Wx, Wh, b = self.params\n",
    "        N, T, H = dhs.shape\n",
    "        D, H = Wx.shape\n",
    "        \n",
    "        dxs = np.empty((N, T, D), dtype='f')\n",
    "        dh = 0\n",
    "        grads = [0, 0, 0]\n",
    "        for t in reversed(range(T)):\n",
    "            layer = self.layers[t]\n",
    "            dx, dh = layer.backward(dhs[:, t, :] + dh)\n",
    "            dxs[:, t, :] += dx\n",
    "            \n",
    "            for i, grad in enumerate(layer.grads):\n",
    "                grads[i] += grad\n",
    "                \n",
    "        for i, grad in enumerate(grads):\n",
    "            self.grads[i][...] += grad\n",
    "        self.dh = dh\n",
    "        \n",
    "        return dxs"
   ]
  },
  {
   "cell_type": "markdown",
   "metadata": {},
   "source": [
    "## TimeEmbedding"
   ]
  },
  {
   "cell_type": "code",
   "execution_count": null,
   "metadata": {},
   "outputs": [],
   "source": [
    "class Embedding:\n",
    "    def __init__(self, W):\n",
    "        self.params = [W]\n",
    "        self.grads = [np.zeros_like(W)]\n",
    "        self.idx = None\n",
    "        \n",
    "    def forward(self, idx):\n",
    "        W, = self.params\n",
    "        self.idx = idx\n",
    "        out = W[idx]\n",
    "        return out\n",
    "    \n",
    "    def backward(self, dout):\n",
    "        dW, = self.grads\n",
    "        dW[...] = 0\n",
    "        np.add.at(dW, self.idx, dout)\n",
    "        return None"
   ]
  },
  {
   "cell_type": "code",
   "execution_count": null,
   "metadata": {},
   "outputs": [],
   "source": [
    "class TimeEmbedding:\n",
    "    def __init__(self, W):\n",
    "        self.params = [W]\n",
    "        self.grads = [np.zeros_like(W)]\n",
    "        self.layers = None\n",
    "        self.W = W\n",
    "        \n",
    "    def forward(self, xs):\n",
    "        N, T = xs.shape\n",
    "        V, D = self.W.shape\n",
    "        \n",
    "        out = np.empty((N, T, D), dtype='f')\n",
    "        self.layers = []\n",
    "        \n",
    "        for t in range(T):\n",
    "            layer = Embedding(self.W)\n",
    "            out[:, t, :] = layer.forward(xs[:, t])\n",
    "            self.layers.append(layer)\n",
    "        \n",
    "        return out\n",
    "    \n",
    "    def backward(self, dout):\n",
    "        N, T, D = dout.shape\n",
    "        \n",
    "        grad = 0\n",
    "        for t in range(T):\n",
    "            layer = self.layers[t]\n",
    "            layer.backward(dout[:, t, :])\n",
    "            grad += layer.grads[0]\n",
    "            \n",
    "        self.grads[0][...] = grad\n",
    "        return None"
   ]
  },
  {
   "cell_type": "markdown",
   "metadata": {},
   "source": [
    "## TimeAffine"
   ]
  },
  {
   "cell_type": "code",
   "execution_count": null,
   "metadata": {},
   "outputs": [],
   "source": [
    "class Affine:\n",
    "    def __init__(self, W, b):\n",
    "        self.params = [W, b]\n",
    "        self.grads = [np.zeros_like(W), np.zeros_like(b)]\n",
    "        self.x = None\n",
    "        \n",
    "    def forward(self, x):\n",
    "        W, b = self.params\n",
    "        out = np.dot(x, W) + b\n",
    "        self.x = x\n",
    "        return out\n",
    "\n",
    "    def backward(self, dout):\n",
    "        W, b = self.params\n",
    "        dx = np.dot(dout, W.T)\n",
    "        dW = np.dot(self.x.T, dout)\n",
    "        db = np.sum(dout, axis=0)\n",
    "        \n",
    "        self.grads[0][...] += dW\n",
    "        self.grads[1][...] += db\n",
    "        return dx"
   ]
  },
  {
   "cell_type": "code",
   "execution_count": null,
   "metadata": {},
   "outputs": [],
   "source": [
    "class TimeAffine:\n",
    "    def __init__(self, W, b):\n",
    "        self.params = [W, b]\n",
    "        self.grads = [np.zeros_like(W), np.zeros_like(b)]\n",
    "        self.x = None\n",
    "        \n",
    "    def forward(self, x):\n",
    "        N, T, D = x.shape\n",
    "        W, b = self.params\n",
    "        \n",
    "        rx = x.reshape(N*T, -1)\n",
    "        out = np.dot(rx, W) + b\n",
    "        self.x = x\n",
    "        return out.reshape(N, T, -1)\n",
    "    \n",
    "    def backward(self, dout):\n",
    "        x = self.x\n",
    "        N, T, D = x.shape\n",
    "        W, b = self.params\n",
    "        \n",
    "        dout = dout.reshape(N*T, -1)\n",
    "        rx = x.reshape(N*T, -1)\n",
    "        \n",
    "        db = np.sum(dout, axis=0)\n",
    "        dW = np.dot(rx.T, dout)\n",
    "        dx = np.dot(dout, W.T)\n",
    "        dx = dx.reshape(*x.shape)\n",
    "        \n",
    "        self.grads[0][...] += dW\n",
    "        self.grads[1][...] += db\n",
    "        \n",
    "        return dx"
   ]
  },
  {
   "cell_type": "markdown",
   "metadata": {},
   "source": [
    "## TimeSoftmaxWithLoss"
   ]
  },
  {
   "cell_type": "code",
   "execution_count": null,
   "metadata": {},
   "outputs": [],
   "source": [
    "def sigmoid(x):\n",
    "    return 1 / (1 + np.exp(-x))\n",
    "\n",
    "def relu(x):\n",
    "    return np.maximum(0, x)\n",
    "\n",
    "def softmax(x):\n",
    "    if x.ndim == 2:\n",
    "        x = x - x.max(axis=1, keepdims=True)\n",
    "        x = np.exp(x)\n",
    "        x /= x.sum(axis=1, keepdims=True)\n",
    "    elif x.ndim == 1:\n",
    "        x = x - np.max(x)\n",
    "        x = np.exp(x) / np.sum(np.exp(x))\n",
    "        \n",
    "    return x\n",
    "\n",
    "def cross_entropy_error(y, t):\n",
    "    if y.ndim == 1:\n",
    "        t = t.reshape(1, t.size)\n",
    "        y = y.reshape(1, y.size)\n",
    "        \n",
    "    if t.size == y.size:\n",
    "        t = t.argmax(axis=1)\n",
    "        \n",
    "    bacth_size = y.shape[0]\n",
    "    \n",
    "    return -np.sum(np.log(y[np.arange(batch_size), t] + 1e-07)) / batch_size"
   ]
  },
  {
   "cell_type": "code",
   "execution_count": null,
   "metadata": {},
   "outputs": [],
   "source": [
    "class Softmax:\n",
    "    def __init__(self):\n",
    "        self.params, self.grads = [], []\n",
    "        self.out = None\n",
    "        \n",
    "    def forward(self, x):\n",
    "        self.out = softmax(x)\n",
    "        return self.out\n",
    "    \n",
    "    def backward(self, dout):\n",
    "        dx = self.out * dout\n",
    "        sumdx = np.sum(dx, axis=1, keepdims=True)\n",
    "        dx -= self.out * sumdx\n",
    "        return dx"
   ]
  },
  {
   "cell_type": "code",
   "execution_count": null,
   "metadata": {},
   "outputs": [],
   "source": [
    "class SoftmaxWithLoss:\n",
    "    def __init__(self):\n",
    "        self.params, self.grads = [], []\n",
    "        self.y = None\n",
    "        self.t = None\n",
    "        \n",
    "    def forward(self, x, t):\n",
    "        self.t = t\n",
    "        self.y = softmax(x)\n",
    "        \n",
    "        if self.t.size == self.y.size:\n",
    "            self.t = self.t.argmax(axis=1)\n",
    "        \n",
    "        loss = cross_entropy_error(self.y, self.t)\n",
    "        return loss\n",
    "    \n",
    "    def backward(self, dout=1):\n",
    "        batch_size = self.t.shape[0]\n",
    "        \n",
    "        dx = self.y.copy()\n",
    "        dx[np.arange(batch_size), self.t] -= 1\n",
    "        dx *= dout\n",
    "        dx = dx / batch_size\n",
    "        \n",
    "        return dx"
   ]
  },
  {
   "cell_type": "code",
   "execution_count": null,
   "metadata": {},
   "outputs": [],
   "source": [
    "class TimeSoftmaxWithLoss:\n",
    "    def __init__(self):\n",
    "        self.params, self.grads = [], []\n",
    "        self.cache = None\n",
    "        self.ignore_label = -1\n",
    "        \n",
    "    def forward(self, xs, ts):\n",
    "        N, T, V = xs.shape\n",
    "        \n",
    "        if ts.ndim == 3:\n",
    "            ts = ts.argmax(axis=2)\n",
    "            \n",
    "        mask = (ts != self.ignore_label)\n",
    "        \n",
    "        xs = xs.reshape(N*T, V)\n",
    "        ts = ts.reshape(N*T)\n",
    "        mask = mask.reshape(N*T)\n",
    "        \n",
    "        ys = softmax(xs)\n",
    "        ls = np.log(ys[np.arange(N*T), ts])\n",
    "        ls *= mask\n",
    "        loss = -np.sum(ls)\n",
    "        loss /= mask.sum()\n",
    "        \n",
    "        self.cache = (ts, ys, mask, (N, T, V))\n",
    "        return loss\n",
    "    \n",
    "    def backward(self, dout=1):\n",
    "        ts, ys, mask, (N, T, V) = self.cache\n",
    "        \n",
    "        dx = ys\n",
    "        dx[np.arange(N*T), ts] -= 1\n",
    "        dx *= dout\n",
    "        dx /= mask.sum()\n",
    "        dx *= mask[:, np.newaxis]\n",
    "        \n",
    "        dx = dx.reshape((N, T, V))\n",
    "        \n",
    "        return dx"
   ]
  },
  {
   "cell_type": "markdown",
   "metadata": {},
   "source": [
    "# RNNLM"
   ]
  },
  {
   "cell_type": "markdown",
   "metadata": {},
   "source": [
    "## クラス"
   ]
  },
  {
   "cell_type": "code",
   "execution_count": null,
   "metadata": {},
   "outputs": [],
   "source": [
    "class SimpleRnnlm:\n",
    "    def __init__(self, vocab_size, wordvec_size, hidden_size):\n",
    "        V, D, H = vocab_size, wordvec_size, hidden_size\n",
    "        rn = np.random.randn\n",
    "        \n",
    "        embed_W = (rn(V, D) / 100).astype('f')\n",
    "        rnn_Wx = (rn(D, H) / np.sqrt(D)).astype('f')\n",
    "        rnn_Wh = (rn(H, H) / np.sqrt(H)).astype('f')\n",
    "        rnn_b = np.zeros(H).astype('f')\n",
    "        affine_W = (rn(H, V) / np.sqrt(H)).astype('f')\n",
    "        affine_b = np.zeros(V).astype('f')\n",
    "        \n",
    "        self.layers = [\n",
    "            TimeEmbedding(embed_W), \n",
    "            TimeRNN(rnn_Wx, rnn_Wh, rnn_b, stateful=True), \n",
    "            TimeAffine(affine_W, affine_b)\n",
    "        ]\n",
    "        self.loss_layer = TimeSoftmaxWithLoss()\n",
    "        self.rnn_layer = self.layers[1]\n",
    "        \n",
    "        self.params, self.grads = [], []\n",
    "        for layer in self.layers:\n",
    "            self.params += layer.params\n",
    "            self.grads += layer.grads\n",
    "            \n",
    "    def forward(self, xs, ts):\n",
    "        for layer in self.layers:\n",
    "            xs = layer.forward(xs)\n",
    "        loss = self.loss_layer.forward(xs, ts)\n",
    "        return loss\n",
    "\n",
    "    def backward(self, dout=1):\n",
    "        dout = self.loss_layer.backward(dout)\n",
    "        for layer in self.layers:\n",
    "            dout = layer.backward(dout)\n",
    "        return dout\n",
    "\n",
    "    def reset_state(self):\n",
    "        self.rnn_layer.reset_state()"
   ]
  },
  {
   "cell_type": "markdown",
   "metadata": {},
   "source": [
    "## 学習"
   ]
  },
  {
   "cell_type": "code",
   "execution_count": 16,
   "metadata": {},
   "outputs": [],
   "source": [
    "import numpy as np\n",
    "import matplotlib.pyplot as plt\n",
    "%matplotlib inline\n",
    "import sys\n",
    "sys.path.append('./deep-learning-from-scratch-2')\n",
    "from common.optimizer import SGD\n",
    "from dataset import ptb\n",
    "from common.layers import Affine, SoftmaxWithLoss, Embedding\n",
    "from common.time_layers import RNN, TimeRNN, TimeEmbedding, TimeAffine, TimeSoftmaxWithLoss\n",
    "from ch05.simple_rnnlm import SimpleRnnlm\n",
    "from common.functions import softmax, cross_entropy_error"
   ]
  },
  {
   "cell_type": "code",
   "execution_count": 17,
   "metadata": {},
   "outputs": [],
   "source": [
    "batch_size = 10\n",
    "wordvec_size = 100\n",
    "hidden_size = 100\n",
    "time_size = 5\n",
    "lr = 0.1\n",
    "max_epoch = 100"
   ]
  },
  {
   "cell_type": "code",
   "execution_count": 18,
   "metadata": {},
   "outputs": [],
   "source": [
    "corpus, word_to_id, id_to_word = ptb.load_data('train')\n",
    "corpus_size = 1000\n",
    "corpus = corpus[:corpus_size]\n",
    "vocab_size = int(max(corpus) + 1)"
   ]
  },
  {
   "cell_type": "code",
   "execution_count": 19,
   "metadata": {},
   "outputs": [
    {
     "name": "stdout",
     "output_type": "stream",
     "text": [
      "corpus size: 1000, vovabulary size: 418\n"
     ]
    }
   ],
   "source": [
    "xs = corpus[:-1]\n",
    "ts = corpus[1:]\n",
    "data_size = len(xs)\n",
    "print('corpus size: %d, vovabulary size: %d' % (corpus_size, vocab_size))"
   ]
  },
  {
   "cell_type": "code",
   "execution_count": 20,
   "metadata": {},
   "outputs": [],
   "source": [
    "max_iters = data_size // (batch_size * time_size)\n",
    "time_idx = 0\n",
    "total_loss = 0\n",
    "loss_count = 0\n",
    "ppl_list = []"
   ]
  },
  {
   "cell_type": "code",
   "execution_count": 21,
   "metadata": {},
   "outputs": [],
   "source": [
    "model = SimpleRnnlm(vocab_size, wordvec_size, hidden_size)\n",
    "optimizer = SGD(lr)"
   ]
  },
  {
   "cell_type": "code",
   "execution_count": 22,
   "metadata": {},
   "outputs": [
    {
     "name": "stdout",
     "output_type": "stream",
     "text": [
      "｜epoch 1 ｜perplexity 371.23\n",
      "｜epoch 2 ｜perplexity 249.48\n",
      "｜epoch 3 ｜perplexity 222.42\n",
      "｜epoch 4 ｜perplexity 214.06\n",
      "｜epoch 5 ｜perplexity 204.84\n",
      "｜epoch 6 ｜perplexity 202.48\n",
      "｜epoch 7 ｜perplexity 197.60\n",
      "｜epoch 8 ｜perplexity 196.25\n",
      "｜epoch 9 ｜perplexity 191.19\n",
      "｜epoch 10 ｜perplexity 192.14\n",
      "｜epoch 11 ｜perplexity 188.65\n",
      "｜epoch 12 ｜perplexity 191.73\n",
      "｜epoch 13 ｜perplexity 189.42\n",
      "｜epoch 14 ｜perplexity 189.89\n",
      "｜epoch 15 ｜perplexity 188.89\n",
      "｜epoch 16 ｜perplexity 185.25\n",
      "｜epoch 17 ｜perplexity 183.37\n",
      "｜epoch 18 ｜perplexity 179.47\n",
      "｜epoch 19 ｜perplexity 180.41\n",
      "｜epoch 20 ｜perplexity 181.61\n",
      "｜epoch 21 ｜perplexity 179.35\n",
      "｜epoch 22 ｜perplexity 174.48\n",
      "｜epoch 23 ｜perplexity 170.44\n",
      "｜epoch 24 ｜perplexity 171.17\n",
      "｜epoch 25 ｜perplexity 168.80\n",
      "｜epoch 26 ｜perplexity 167.14\n",
      "｜epoch 27 ｜perplexity 160.51\n",
      "｜epoch 28 ｜perplexity 158.33\n",
      "｜epoch 29 ｜perplexity 155.56\n",
      "｜epoch 30 ｜perplexity 149.01\n",
      "｜epoch 31 ｜perplexity 148.22\n",
      "｜epoch 32 ｜perplexity 144.11\n",
      "｜epoch 33 ｜perplexity 140.81\n",
      "｜epoch 34 ｜perplexity 135.77\n",
      "｜epoch 35 ｜perplexity 134.83\n",
      "｜epoch 36 ｜perplexity 127.33\n",
      "｜epoch 37 ｜perplexity 120.95\n",
      "｜epoch 38 ｜perplexity 117.76\n",
      "｜epoch 39 ｜perplexity 113.76\n",
      "｜epoch 40 ｜perplexity 109.90\n",
      "｜epoch 41 ｜perplexity 107.29\n",
      "｜epoch 42 ｜perplexity 101.17\n",
      "｜epoch 43 ｜perplexity 94.71\n",
      "｜epoch 44 ｜perplexity 90.87\n",
      "｜epoch 45 ｜perplexity 88.61\n",
      "｜epoch 46 ｜perplexity 86.94\n",
      "｜epoch 47 ｜perplexity 79.82\n",
      "｜epoch 48 ｜perplexity 76.09\n",
      "｜epoch 49 ｜perplexity 73.57\n",
      "｜epoch 50 ｜perplexity 70.22\n",
      "｜epoch 51 ｜perplexity 65.55\n",
      "｜epoch 52 ｜perplexity 62.65\n",
      "｜epoch 53 ｜perplexity 59.77\n",
      "｜epoch 54 ｜perplexity 56.32\n",
      "｜epoch 55 ｜perplexity 53.93\n",
      "｜epoch 56 ｜perplexity 49.95\n",
      "｜epoch 57 ｜perplexity 46.99\n",
      "｜epoch 58 ｜perplexity 45.19\n",
      "｜epoch 59 ｜perplexity 41.96\n",
      "｜epoch 60 ｜perplexity 40.43\n",
      "｜epoch 61 ｜perplexity 38.16\n",
      "｜epoch 62 ｜perplexity 36.43\n",
      "｜epoch 63 ｜perplexity 33.59\n",
      "｜epoch 64 ｜perplexity 30.84\n",
      "｜epoch 65 ｜perplexity 30.13\n",
      "｜epoch 66 ｜perplexity 28.59\n",
      "｜epoch 67 ｜perplexity 27.92\n",
      "｜epoch 68 ｜perplexity 25.14\n",
      "｜epoch 69 ｜perplexity 24.54\n",
      "｜epoch 70 ｜perplexity 22.95\n",
      "｜epoch 71 ｜perplexity 21.24\n",
      "｜epoch 72 ｜perplexity 20.82\n",
      "｜epoch 73 ｜perplexity 18.67\n",
      "｜epoch 74 ｜perplexity 18.14\n",
      "｜epoch 75 ｜perplexity 17.10\n",
      "｜epoch 76 ｜perplexity 15.72\n",
      "｜epoch 77 ｜perplexity 15.23\n",
      "｜epoch 78 ｜perplexity 14.23\n",
      "｜epoch 79 ｜perplexity 13.46\n",
      "｜epoch 80 ｜perplexity 12.89\n",
      "｜epoch 81 ｜perplexity 12.50\n",
      "｜epoch 82 ｜perplexity 12.13\n",
      "｜epoch 83 ｜perplexity 10.85\n",
      "｜epoch 84 ｜perplexity 10.61\n",
      "｜epoch 85 ｜perplexity 10.06\n",
      "｜epoch 86 ｜perplexity 9.55\n",
      "｜epoch 87 ｜perplexity 9.11\n",
      "｜epoch 88 ｜perplexity 8.98\n",
      "｜epoch 89 ｜perplexity 8.41\n",
      "｜epoch 90 ｜perplexity 7.77\n",
      "｜epoch 91 ｜perplexity 7.37\n",
      "｜epoch 92 ｜perplexity 6.99\n",
      "｜epoch 93 ｜perplexity 6.74\n",
      "｜epoch 94 ｜perplexity 6.36\n",
      "｜epoch 95 ｜perplexity 6.25\n",
      "｜epoch 96 ｜perplexity 6.00\n",
      "｜epoch 97 ｜perplexity 5.87\n",
      "｜epoch 98 ｜perplexity 5.69\n",
      "｜epoch 99 ｜perplexity 5.50\n",
      "｜epoch 100 ｜perplexity 5.26\n"
     ]
    }
   ],
   "source": [
    "jump = (corpus_size - 1) // batch_size\n",
    "offsets = [i * jump for i in range(batch_size)]\n",
    "\n",
    "for epoch in range(max_epoch):\n",
    "    for iter in range(max_iters):\n",
    "        batch_x = np.empty((batch_size, time_size), dtype='i')\n",
    "        batch_t = np.empty((batch_size, time_size), dtype='i')\n",
    "        for t in range(time_size):\n",
    "            for i, offset in enumerate(offsets):\n",
    "                batch_x[i, t] = xs[(offset + time_idx) % data_size]\n",
    "                batch_t[i, t] = ts[(offset + time_idx) % data_size]\n",
    "            time_idx += 1\n",
    "            \n",
    "        loss = model.forward(batch_x, batch_t)\n",
    "        model.backward()\n",
    "        optimizer.update(model.params, model.grads)\n",
    "        total_loss += loss\n",
    "        loss_count += 1\n",
    "        \n",
    "    ppl = np.exp(total_loss / loss_count)\n",
    "    print('｜epoch %d ｜perplexity %.2f' % (epoch+1, ppl))\n",
    "    ppl_list.append(float(ppl))\n",
    "    total_loss, loss_count = 0, 0"
   ]
  },
  {
   "cell_type": "code",
   "execution_count": 23,
   "metadata": {},
   "outputs": [
    {
     "data": {
      "image/png": "[encoded data removed]",
      "text/plain": [
       "<Figure size 432x288 with 1 Axes>"
      ]
     },
     "metadata": {},
     "output_type": "display_data"
    }
   ],
   "source": [
    "# グラフの描画\n",
    "x = np.arange(len(ppl_list))\n",
    "plt.plot(x, ppl_list, label='train')\n",
    "plt.xlabel('epochs')\n",
    "plt.ylabel('perplexity')\n",
    "plt.show()"
   ]
  },
  {
   "cell_type": "code",
   "execution_count": null,
   "metadata": {},
   "outputs": [],
   "source": []
  }
 ],
 "metadata": {
  "kernelspec": {
   "display_name": "Python 3",
   "language": "python",
   "name": "python3"
  },
  "language_info": {
   "codemirror_mode": {
    "name": "ipython",
    "version": 3
   },
   "file_extension": ".py",
   "mimetype": "text/x-python",
   "name": "python",
   "nbconvert_exporter": "python",
   "pygments_lexer": "ipython3",
   "version": "3.6.6"
  },
  "toc": {
   "base_numbering": 1,
   "nav_menu": {},
   "number_sections": true,
   "sideBar": true,
   "skip_h1_title": false,
   "title_cell": "Table of Contents",
   "title_sidebar": "Contents",
   "toc_cell": false,
   "toc_position": {
    "height": "calc(100% - 180px)",
    "left": "10px",
    "top": "150px",
    "width": "209px"
   },
   "toc_section_display": true,
   "toc_window_display": true
  }
 },
 "nbformat": 4,
 "nbformat_minor": 2
}
